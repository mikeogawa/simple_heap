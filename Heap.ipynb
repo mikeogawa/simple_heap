{
 "cells": [
  {
   "cell_type": "markdown",
   "metadata": {},
   "source": [
    "# Priorty Queue\n",
    "\n",
    "\n",
    "Here I created my original Heap. This was a small project I did in order to understand what priority queue does. I also added a boolean in order to invert the orders. Default is min.\n",
    "\n",
    "## What is Priorty Queue? ( for newbies )\n",
    "\n",
    "It's a queue that maintains the order of a certain key. In most cases, the element value is the key. It will organize the order every time a data is appended, and reorganize when a data is extracted. Note that it does not compare new data to every element but uses a binary tree to prioritize the value.\n",
    "\n",
    "## Summary\n",
    "\n",
    "- Refrained from using tree class to create a tree.\n",
    "- Used binary tree location and index to obtain value.\n",
    "- Created a index <=> position transformer.\n",
    "- Used binary tree location to get child and parent.\n",
    "- Once child/parent position are obtained, index can be obtained.\n",
    "- Heap check is used to confirm the heap of the tree.\n"
   ]
  },
  {
   "cell_type": "code",
   "execution_count": 11,
   "metadata": {},
   "outputs": [],
   "source": [
    "import numpy as np\n",
    "\n",
    "class Heap:\n",
    "\n",
    "    def __init__(self,b=True):\n",
    "        self._list = []\n",
    "        self._b = 1 if b else -1\n",
    "        \n",
    "    def head(self):\n",
    "        return self._list[0] if len(self._list) else None\n",
    "    \n",
    "    def size(self):\n",
    "        return len(self._list)\n",
    "        \n",
    "    def get_p(self,i):\n",
    "        a = int(np.log2(i+1))        \n",
    "        b = i - (2 ** a - 1)\n",
    "        return a,b\n",
    "    \n",
    "    def get_idx(self,t):\n",
    "        i = (2 ** t[0] - 1) + t[1]\n",
    "        return i\n",
    "    \n",
    "    def get_parent_p(self,i):\n",
    "        t = self.get_p(i)\n",
    "        a = t[0] - 1 \n",
    "        b = t[1]//2\n",
    "        if a < 0:\n",
    "            return None\n",
    "        else:\n",
    "            return a,b\n",
    "        \n",
    "    def get_parent_i(self,i):\n",
    "        t = self.get_parent_p(i)\n",
    "        if t is None:\n",
    "            return None\n",
    "        else:\n",
    "            return self.get_idx(t)\n",
    "        \n",
    "    def get_child_p(self,i):\n",
    "        t = self.get_p(i)\n",
    "        a = t[0] + 1 \n",
    "        b = t[1] * 2\n",
    "        \n",
    "        res1 = (a, b)\n",
    "        res2 = (a, b+1)\n",
    "        \n",
    "        i1 = self.get_idx(res1)\n",
    "        i2 = self.get_idx(res2)\n",
    "        l = len(self._list)\n",
    "\n",
    "        if i1 >= l:\n",
    "            res1 = None\n",
    "        if i2 >= l:\n",
    "            res2 = None\n",
    "        return res1, res2\n",
    "    \n",
    "    def get_child_i(self,i):\n",
    "        res = [self.get_idx(t) if t is not None else t for t in self.get_child_p(i)]\n",
    "        return tuple(res)\n",
    "    \n",
    "    def exchange(self,ia,ib):\n",
    "        v = self._list[ia]\n",
    "        self._list[ia] = self._list[ib]\n",
    "        self._list[ib] = v\n",
    "    \n",
    "    def append(self,x):\n",
    "        lt = self._list\n",
    "        i = len(lt)\n",
    "        lt.append(self._b * x)\n",
    "        \n",
    "        a,b = self.get_p(i)\n",
    "        \n",
    "        for _ in range(a):\n",
    "            x = self.get_parent_i(i)\n",
    "            \n",
    "            if x is None:\n",
    "                break\n",
    "                \n",
    "            if lt[i] <= lt[x]:\n",
    "                self.exchange(i,x)\n",
    "                i = x\n",
    "                \n",
    "            else:\n",
    "                break\n",
    "                \n",
    "        self.check_heap()\n",
    "    \n",
    "    def pop(self):\n",
    "        \n",
    "        self.check_heap()\n",
    "        \n",
    "        lt = self._list\n",
    "        \n",
    "        v = self._b * lt.pop(0)\n",
    "        \n",
    "        if len(lt) == 0:\n",
    "            return v\n",
    "        \n",
    "        nv = lt.pop()\n",
    "        lt.insert(0,nv)\n",
    "        \n",
    "        depth, _ = self.get_p(len(lt))\n",
    "        i = 0\n",
    "        \n",
    "        for _ in range(depth):\n",
    "            x1,x2 = self.get_child_i(i)\n",
    "            \n",
    "            a = lt[x1] if x1 is not None else None\n",
    "            b = lt[x2] if x2 is not None else None\n",
    "            \n",
    "            if a is None and b is None:\n",
    "                break\n",
    "                \n",
    "            elif a is None or b is None:\n",
    "                \n",
    "                if a is not None:\n",
    "                    if a < lt[i]:\n",
    "                        _ = self.exchange(x1,i)\n",
    "                        i = x1\n",
    "                else:\n",
    "                    if b < lt[i]:\n",
    "                        _ = self.exchange(x2,i)\n",
    "                        i = x2\n",
    "\n",
    "                i = x1 if a is not None else x2 \n",
    "                \n",
    "            else:\n",
    "            \n",
    "                if a < b:\n",
    "                    if a < lt[i]:\n",
    "                        self.exchange(x1,i)\n",
    "                        i = x1\n",
    "                else:\n",
    "                    if b < lt[i]:\n",
    "                        self.exchange(x2,i)\n",
    "                        i = x2\n",
    "                \n",
    "        return v\n",
    "    \n",
    "    def check_ab(self,x):\n",
    "        \n",
    "        lt = self._list\n",
    "        \n",
    "        if x is None:\n",
    "            return None\n",
    "        \n",
    "        a,b = self.get_child_i(x)\n",
    "        \n",
    "        if a is not None:\n",
    "            assert lt[a] >= lt[x], \"{} >= {} ?\".format(lt[a],lt[x])\n",
    "            self.check_ab(a)\n",
    "            \n",
    "        if b is not None:\n",
    "            assert lt[b] >= lt[x], \"{} >= {} ?\".format(lt[b],lt[x])\n",
    "            self.check_ab(b)\n",
    "    \n",
    "    \n",
    "    def check_heap(self):\n",
    "        pass\n",
    "        #self.check_ab(0)\n",
    "        \n",
    "    \n",
    "        \n",
    "        \n",
    "        \n",
    "        \n",
    "            \n",
    "        \n",
    "    \n",
    "    "
   ]
  },
  {
   "cell_type": "code",
   "execution_count": 2,
   "metadata": {
    "scrolled": true
   },
   "outputs": [
    {
     "data": {
      "text/plain": [
       "(2, 0)"
      ]
     },
     "execution_count": 2,
     "metadata": {},
     "output_type": "execute_result"
    }
   ],
   "source": [
    "h = Heap(True)\n",
    "h.get_p(3)"
   ]
  },
  {
   "cell_type": "code",
   "execution_count": 7,
   "metadata": {},
   "outputs": [],
   "source": [
    "np.random.seed(123)\n",
    "for i in np.random.randint(999,size=(300,)):\n",
    "    h.append(i)"
   ]
  },
  {
   "cell_type": "code",
   "execution_count": 8,
   "metadata": {},
   "outputs": [],
   "source": [
    "h.append(4)"
   ]
  },
  {
   "cell_type": "code",
   "execution_count": 9,
   "metadata": {},
   "outputs": [],
   "source": [
    "h.append(5)"
   ]
  },
  {
   "cell_type": "code",
   "execution_count": 10,
   "metadata": {
    "scrolled": false
   },
   "outputs": [
    {
     "name": "stdout",
     "output_type": "stream",
     "text": [
      "[2, 3, 4, 5, 8, 10, 14, 16, 17, 17, 39, 46, 47, 51, 56, 58, 60, 65, 67, 68, 69, 73, 73, 76, 77, 86, 87, 88, 88, 92, 96, 98, 99, 99, 106, 106, 109, 111, 112, 113, 123, 129, 130, 135, 135, 139, 140, 141, 146, 154, 158, 176, 180, 180, 186, 187, 193, 194, 197, 198, 198, 206, 206, 207, 208, 213, 214, 215, 222, 222, 224, 244, 251, 253, 255, 257, 259, 259, 262, 265, 271, 271, 281, 290, 296, 301, 304, 305, 312, 312, 315, 319, 321, 322, 322, 322, 323, 325, 339, 340, 340, 341, 342, 354, 357, 357, 358, 359, 360, 364, 365, 365, 371, 377, 380, 382, 385, 390, 390, 393, 394, 401, 407, 409, 409, 410, 411, 411, 412, 418, 419, 420, 424, 428, 432, 433, 434, 438, 440, 441, 442, 451, 459, 460, 465, 467, 471, 472, 473, 475, 480, 481, 484, 486, 489, 490, 493, 493, 496, 497, 502, 503, 504, 507, 510, 513, 515, 515, 530, 530, 537, 539, 540, 544, 552, 555, 557, 557, 559, 562, 569, 572, 574, 575, 576, 582, 588, 595, 596, 608, 609, 611, 612, 615, 622, 628, 630, 631, 634, 635, 636, 638, 645, 647, 649, 651, 658, 661, 665, 673, 680, 681, 686, 695, 707, 717, 718, 720, 731, 737, 740, 742, 745, 750, 755, 759, 762, 763, 765, 766, 768, 771, 771, 780, 781, 782, 790, 791, 795, 806, 812, 814, 815, 817, 819, 823, 824, 826, 836, 837, 842, 843, 846, 855, 860, 861, 862, 865, 867, 873, 878, 884, 884, 885, 887, 889, 899, 899, 900, 903, 906, 907, 925, 926, 931, 932, 940, 942, 944, 945, 950, 950, 953, 955, 957, 957, 959, 966, 967, 970, 971, 972, 977, 979, 980, 983, 987, 988, 993, 997, 998, 998]\n"
     ]
    }
   ],
   "source": [
    "res = []\n",
    "for _ in range(len(h._list)):\n",
    "    v=h.pop()\n",
    "    res.append(v)\n",
    "    \n",
    "print(res)"
   ]
  },
  {
   "cell_type": "code",
   "execution_count": null,
   "metadata": {},
   "outputs": [],
   "source": []
  },
  {
   "cell_type": "code",
   "execution_count": null,
   "metadata": {},
   "outputs": [],
   "source": []
  }
 ],
 "metadata": {
  "kernelspec": {
   "display_name": "Python 3",
   "language": "python",
   "name": "python3"
  },
  "language_info": {
   "codemirror_mode": {
    "name": "ipython",
    "version": 3
   },
   "file_extension": ".py",
   "mimetype": "text/x-python",
   "name": "python",
   "nbconvert_exporter": "python",
   "pygments_lexer": "ipython3",
   "version": "3.7.4"
  }
 },
 "nbformat": 4,
 "nbformat_minor": 2
}
